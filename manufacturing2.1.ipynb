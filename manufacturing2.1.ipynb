{
 "cells": [
  {
   "cell_type": "code",
   "execution_count": 9,
   "id": "e6d8af77-fe87-4813-993c-3c5b37de837b",
   "metadata": {},
   "outputs": [
    {
     "name": "stdout",
     "output_type": "stream",
     "text": [
      "   mpg  cylinder  displacement  horsepower  weight  acceleration  model year  \\\n",
      "0   18         8           307         130    3504          12.0          71   \n",
      "1   15         8           350         165    3693          11.5          70   \n",
      "2   18         8           318         150    3439          11.0          72   \n",
      "3   17         8           302         140    3446          10.5          70   \n",
      "4   14         8           455         225    4425          10.0          71   \n",
      "\n",
      "     carname  \n",
      "0  chevrolet  \n",
      "1    skylark  \n",
      "2   plymouth  \n",
      "3       ford  \n",
      "4    pontiac  \n"
     ]
    }
   ],
   "source": [
    "df = pd.read_csv('manufacturing2.csv')\n",
    "print(df.head())"
   ]
  },
  {
   "cell_type": "code",
   "execution_count": 11,
   "id": "8032e0bd-acdf-4d1a-b744-f325cc57f758",
   "metadata": {},
   "outputs": [
    {
     "name": "stdout",
     "output_type": "stream",
     "text": [
      "\n",
      "Mean horsepower: 166.66666666666666\n"
     ]
    }
   ],
   "source": [
    "horsepower_mean = df['horsepower'].mean() \n",
    "print(\"\\nMean horsepower:\", horsepower_mean)"
   ]
  },
  {
   "cell_type": "code",
   "execution_count": 13,
   "id": "3367ef85-a3b9-4e38-91c8-ee8817adfea2",
   "metadata": {},
   "outputs": [
    {
     "name": "stdout",
     "output_type": "stream",
     "text": [
      "\n",
      "Standard Deviation of acceleration: 1.241638702145945\n"
     ]
    }
   ],
   "source": [
    "acceleration_std = df['acceleration'].std()\n",
    "print(\"\\nStandard Deviation of acceleration:\", acceleration_std)"
   ]
  },
  {
   "cell_type": "code",
   "execution_count": 15,
   "id": "6432d9c2-150c-425d-a8d1-8c74ed58139c",
   "metadata": {},
   "outputs": [
    {
     "name": "stdout",
     "output_type": "stream",
     "text": [
      "\n",
      "Number of cars manufactured in each year:\n",
      "model year\n",
      "70    3\n",
      "71    2\n",
      "72    1\n",
      "Name: count, dtype: int64\n"
     ]
    }
   ],
   "source": [
    "manufactured_by_year = df['model year'].value_counts().sort_index()\n",
    "print(\"\\nNumber of cars manufactured in each year:\") \n",
    "print(manufactured_by_year)"
   ]
  },
  {
   "cell_type": "code",
   "execution_count": null,
   "id": "f77102b1-0c75-4cc7-8100-8a14d5c98844",
   "metadata": {},
   "outputs": [],
   "source": []
  }
 ],
 "metadata": {
  "kernelspec": {
   "display_name": "Python 3 (ipykernel)",
   "language": "python",
   "name": "python3"
  },
  "language_info": {
   "codemirror_mode": {
    "name": "ipython",
    "version": 3
   },
   "file_extension": ".py",
   "mimetype": "text/x-python",
   "name": "python",
   "nbconvert_exporter": "python",
   "pygments_lexer": "ipython3",
   "version": "3.12.4"
  }
 },
 "nbformat": 4,
 "nbformat_minor": 5
}
