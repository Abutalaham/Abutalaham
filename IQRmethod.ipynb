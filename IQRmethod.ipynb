{
 "cells": [
  {
   "cell_type": "code",
   "execution_count": 1,
   "id": "66eda113-3008-414b-8986-acd686a16e46",
   "metadata": {},
   "outputs": [
    {
     "name": "stdout",
     "output_type": "stream",
     "text": [
      "[ 1  2  3  4  5  6 50]\n"
     ]
    }
   ],
   "source": [
    "import numpy as np\n",
    "import seaborn as sns\n",
    "data=[6,2,3,4,5,1,50]\n",
    "sortdata=np.sort(data)\n",
    "print(sortdata)"
   ]
  },
  {
   "cell_type": "code",
   "execution_count": 5,
   "id": "2667c595-e4f1-40a2-8396-8cbb95d7a72b",
   "metadata": {},
   "outputs": [
    {
     "name": "stdout",
     "output_type": "stream",
     "text": [
      "Q1 :  2.5\n",
      "Q2 :  4.0\n",
      "Q3 :  5.5\n"
     ]
    }
   ],
   "source": [
    "Q1=np.percentile(data,25)\n",
    "Q2=np.percentile(data,50)\n",
    "Q3=np.percentile(data,75)\n",
    "print(\"Q1 : \",Q1)\n",
    "print(\"Q2 : \",Q2)\n",
    "print(\"Q3 : \",Q3)"
   ]
  },
  {
   "cell_type": "code",
   "execution_count": 7,
   "id": "3d9bbdf6-f7d2-4055-b171-9cf4ee7375df",
   "metadata": {},
   "outputs": [
    {
     "name": "stdout",
     "output_type": "stream",
     "text": [
      "IQR: 3.0\n"
     ]
    }
   ],
   "source": [
    "IQR=Q3-Q1\n",
    "print('IQR:',IQR)\n"
   ]
  },
  {
   "cell_type": "code",
   "execution_count": 9,
   "id": "3dfc668b-4b3a-488e-9b12-6193608d67e2",
   "metadata": {},
   "outputs": [
    {
     "name": "stdout",
     "output_type": "stream",
     "text": [
      "lowerbound -2.0\n",
      "upperbound 10.0\n"
     ]
    }
   ],
   "source": [
    "lowerbound=Q1-1.5*IQR\n",
    "upperbound=Q3+1.5*IQR\n",
    "print('lowerbound',lowerbound)\n",
    "print('upperbound',upperbound)"
   ]
  },
  {
   "cell_type": "code",
   "execution_count": 15,
   "id": "f37320bb-7e5f-404c-8600-ad38426325b3",
   "metadata": {},
   "outputs": [
    {
     "name": "stdout",
     "output_type": "stream",
     "text": [
      "outlier: [50]\n"
     ]
    }
   ],
   "source": [
    "outlier = []\n",
    "for x in data:\n",
    "    if x > upperbound or x < lowerbound:\n",
    "        outlier.append(x)\n",
    "\n",
    "print('outlier:', outlier)"
   ]
  },
  {
   "cell_type": "code",
   "execution_count": 19,
   "id": "5aa61a91-a22f-4e76-a68c-64b3321d292a",
   "metadata": {},
   "outputs": [
    {
     "data": {
      "text/plain": [
       "<Axes: >"
      ]
     },
     "execution_count": 19,
     "metadata": {},
     "output_type": "execute_result"
    },
    {
     "data": {
      "image/png": "[encoded data removed]",
      "text/plain": [
       "<Figure size 640x480 with 1 Axes>"
      ]
     },
     "metadata": {},
     "output_type": "display_data"
    }
   ],
   "source": [
    "sns.boxplot(data)"
   ]
  },
  {
   "cell_type": "code",
   "execution_count": null,
   "id": "ce5350e4-e741-4ab5-86af-38d8de6c5058",
   "metadata": {},
   "outputs": [],
   "source": []
  }
 ],
 "metadata": {
  "kernelspec": {
   "display_name": "Python 3 (ipykernel)",
   "language": "python",
   "name": "python3"
  },
  "language_info": {
   "codemirror_mode": {
    "name": "ipython",
    "version": 3
   },
   "file_extension": ".py",
   "mimetype": "text/x-python",
   "name": "python",
   "nbconvert_exporter": "python",
   "pygments_lexer": "ipython3",
   "version": "3.12.4"
  }
 },
 "nbformat": 4,
 "nbformat_minor": 5
}
