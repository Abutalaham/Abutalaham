{
 "cells": [
  {
   "cell_type": "code",
   "execution_count": 3,
   "id": "724b82b9-b9c5-45b9-bdb0-60833914bfb5",
   "metadata": {},
   "outputs": [
    {
     "name": "stdout",
     "output_type": "stream",
     "text": [
      "   number  pencil  textbooks  drawing sheets  total units  profits\n",
      "0       1     300        250             100        700.0    80000\n",
      "1       2     350        350             125       1075.0     9500\n",
      "2       3     400        400             190       1320.0    10256\n",
      "3       4     500        420             210       1510.0    12000\n",
      "4       5     520        500             250          NaN    15000\n"
     ]
    }
   ],
   "source": [
    "import numpy as np\n",
    "import pandas as pd\n",
    "book = pd.read_csv('profits(5.1).csv')\n",
    "print(book)"
   ]
  },
  {
   "cell_type": "code",
   "execution_count": 5,
   "id": "50bbae49-cfb1-418f-8870-c0b35865603f",
   "metadata": {},
   "outputs": [
    {
     "name": "stdout",
     "output_type": "stream",
     "text": [
      "<class 'pandas.core.frame.DataFrame'>\n",
      "RangeIndex: 5 entries, 0 to 4\n",
      "Data columns (total 6 columns):\n",
      " #   Column          Non-Null Count  Dtype  \n",
      "---  ------          --------------  -----  \n",
      " 0   number          5 non-null      int64  \n",
      " 1   pencil          5 non-null      int64  \n",
      " 2   textbooks       5 non-null      int64  \n",
      " 3   drawing sheets  5 non-null      int64  \n",
      " 4   total units     4 non-null      float64\n",
      " 5   profits         5 non-null      int64  \n",
      "dtypes: float64(1), int64(5)\n",
      "memory usage: 372.0 bytes\n"
     ]
    }
   ],
   "source": [
    "book.info()"
   ]
  },
  {
   "cell_type": "code",
   "execution_count": null,
   "id": "9d978093-edc7-403f-bc55-5e13c55aa546",
   "metadata": {},
   "outputs": [],
   "source": []
  }
 ],
 "metadata": {
  "kernelspec": {
   "display_name": "Python 3 (ipykernel)",
   "language": "python",
   "name": "python3"
  },
  "language_info": {
   "codemirror_mode": {
    "name": "ipython",
    "version": 3
   },
   "file_extension": ".py",
   "mimetype": "text/x-python",
   "name": "python",
   "nbconvert_exporter": "python",
   "pygments_lexer": "ipython3",
   "version": "3.12.4"
  }
 },
 "nbformat": 4,
 "nbformat_minor": 5
}
