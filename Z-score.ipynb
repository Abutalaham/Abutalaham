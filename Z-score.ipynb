{
 "cells": [
  {
   "cell_type": "code",
   "execution_count": 15,
   "id": "9d8f16ae-26d8-41ec-92b7-ea40cf7e0231",
   "metadata": {},
   "outputs": [
    {
     "name": "stdout",
     "output_type": "stream",
     "text": [
      "mean: 3.7333333333333334\n",
      "standard_deviation: 4.864383025854586\n",
      "outlier: []\n"
     ]
    }
   ],
   "source": [
    "import numpy as np\n",
    "\n",
    "data = [1, 2, 2, 2, 3, 1, 1, 15, 2, 2, 2, 3, 1, 1, 2]\n",
    "mean = np.mean(data)\n",
    "print('mean:', mean)\n",
    "\n",
    "std = np.std(data)\n",
    "print('standard_deviation:', std)\n",
    "\n",
    "threshold = \n",
    "outlier = []  # Initialize the outlier list\n",
    "\n",
    "for i in data:\n",
    "    z = (i - mean) / std  # Corrected Z-score calculation\n",
    "    if abs(z) > threshold:\n",
    "        outlier.append(i)\n",
    "\n",
    "print('outlier:', outlier)"
   ]
  },
  {
   "cell_type": "code",
   "execution_count": null,
   "id": "07866608-968a-4a90-bebd-ebddc79452b1",
   "metadata": {},
   "outputs": [],
   "source": []
  }
 ],
 "metadata": {
  "kernelspec": {
   "display_name": "Python 3 (ipykernel)",
   "language": "python",
   "name": "python3"
  },
  "language_info": {
   "codemirror_mode": {
    "name": "ipython",
    "version": 3
   },
   "file_extension": ".py",
   "mimetype": "text/x-python",
   "name": "python",
   "nbconvert_exporter": "python",
   "pygments_lexer": "ipython3",
   "version": "3.12.4"
  }
 },
 "nbformat": 4,
 "nbformat_minor": 5
}
