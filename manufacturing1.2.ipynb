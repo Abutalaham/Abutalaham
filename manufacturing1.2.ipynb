{
 "cells": [
  {
   "cell_type": "code",
   "execution_count": 1,
   "id": "dab39075-b130-4194-9cbe-1a8e193b3541",
   "metadata": {},
   "outputs": [
    {
     "name": "stdout",
     "output_type": "stream",
     "text": [
      "   mpg  cylinder  displacement   HP  weight  acceleration  model year carname\n",
      "0   18         4           300  150    3504          12.0          70   honda\n",
      "1   15         8           325  165    3695          11.5          71   nexon\n",
      "2   18         8           318  160    3440          11.0          70    ford\n",
      "3   16         6           305  160    3450          12.0          15  indica\n",
      "4   17         8           307  150    3449          10.5          80   swift\n"
     ]
    }
   ],
   "source": [
    "import pandas as pd\n",
    "data = pd.read_csv(\"manufacturing.csv\")\n",
    "print(data)"
   ]
  },
  {
   "cell_type": "code",
   "execution_count": 5,
   "id": "b8d09718-1e72-44ae-8911-e61518ad41b4",
   "metadata": {},
   "outputs": [
    {
     "name": "stdout",
     "output_type": "stream",
     "text": [
      "   mpg  cylinder  displacement   HP  weight  acceleration  model year carname\n",
      "1   15         8           325  165    3695          11.5          71   nexon\n",
      "2   18         8           318  160    3440          11.0          70    ford\n",
      "4   17         8           307  150    3449          10.5          80   swift\n"
     ]
    }
   ],
   "source": [
    "eight_cylinder_cars = data[data['cylinder'] == 8] \n",
    "print(eight_cylinder_cars)\n"
   ]
  },
  {
   "cell_type": "code",
   "execution_count": 9,
   "id": "30d563b0-f698-4946-b0f6-c75bebcb2aa5",
   "metadata": {},
   "outputs": [
    {
     "name": "stdout",
     "output_type": "stream",
     "text": [
      "model year\n",
      "15    1\n",
      "70    2\n",
      "71    1\n",
      "80    1\n",
      "Name: carname, dtype: int64\n"
     ]
    }
   ],
   "source": [
    "cars_by_year = data.groupby('model year')['carname'].count() \n",
    "print(cars_by_year)"
   ]
  },
  {
   "cell_type": "code",
   "execution_count": null,
   "id": "b8beec57-3c8e-48f2-b4b6-a679f2ae578d",
   "metadata": {},
   "outputs": [],
   "source": []
  }
 ],
 "metadata": {
  "kernelspec": {
   "display_name": "Python 3 (ipykernel)",
   "language": "python",
   "name": "python3"
  },
  "language_info": {
   "codemirror_mode": {
    "name": "ipython",
    "version": 3
   },
   "file_extension": ".py",
   "mimetype": "text/x-python",
   "name": "python",
   "nbconvert_exporter": "python",
   "pygments_lexer": "ipython3",
   "version": "3.12.4"
  }
 },
 "nbformat": 4,
 "nbformat_minor": 5
}
