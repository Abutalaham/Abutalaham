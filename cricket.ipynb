{
 "cells": [
  {
   "cell_type": "code",
   "execution_count": 1,
   "id": "a0ea34c7-f76f-48ab-8033-92e84952046a",
   "metadata": {},
   "outputs": [
    {
     "name": "stdout",
     "output_type": "stream",
     "text": [
      "  competition  matches  runs\n",
      "0        TEST      132  2506\n",
      "1         ODI      271   935\n",
      "2          FC      344  5572\n",
      "3          LA      380  1456\n",
      "4        TEST      240  2506\n",
      "5         ODI      271  3506\n"
     ]
    }
   ],
   "source": [
    "import numpy as np\n",
    "import pandas as pd\n",
    "df=pd.read_csv('cricket(xl).csv')\n",
    "print(df)"
   ]
  },
  {
   "cell_type": "code",
   "execution_count": 3,
   "id": "8ce67942-cf41-4cd4-99a1-0ee205485bc9",
   "metadata": {},
   "outputs": [
    {
     "data": {
      "text/plain": [
       "2746.8333333333335"
      ]
     },
     "execution_count": 3,
     "metadata": {},
     "output_type": "execute_result"
    }
   ],
   "source": [
    "df['runs'].mean()"
   ]
  },
  {
   "cell_type": "code",
   "execution_count": 5,
   "id": "20257e9a-b153-44e3-bdf5-994de3b7ebb7",
   "metadata": {},
   "outputs": [
    {
     "data": {
      "text/plain": [
       "5572"
      ]
     },
     "execution_count": 5,
     "metadata": {},
     "output_type": "execute_result"
    }
   ],
   "source": [
    "df['runs'].max()"
   ]
  },
  {
   "cell_type": "code",
   "execution_count": 7,
   "id": "762ea76c-d63f-4ed9-b540-2e2f60ad077b",
   "metadata": {},
   "outputs": [
    {
     "data": {
      "text/plain": [
       "2506.0"
      ]
     },
     "execution_count": 7,
     "metadata": {},
     "output_type": "execute_result"
    }
   ],
   "source": [
    "df['runs'].median()"
   ]
  },
  {
   "cell_type": "code",
   "execution_count": 9,
   "id": "56565648-fef3-4058-acf3-abf4524dac1a",
   "metadata": {},
   "outputs": [],
   "source": [
    "deptname=df.groupby('runs')['runs'].count()"
   ]
  },
  {
   "cell_type": "code",
   "execution_count": 13,
   "id": "d33f6f48-9c6e-43af-833b-f95a17801c98",
   "metadata": {},
   "outputs": [
    {
     "name": "stdout",
     "output_type": "stream",
     "text": [
      "runs\n",
      "935     1\n",
      "1456    1\n",
      "2506    2\n",
      "3506    1\n",
      "5572    1\n",
      "Name: runs, dtype: int64\n"
     ]
    }
   ],
   "source": [
    "print(deptname)"
   ]
  },
  {
   "cell_type": "code",
   "execution_count": 15,
   "id": "3352d1d8-57bf-4c68-b8ec-b12db5705cd7",
   "metadata": {},
   "outputs": [
    {
     "name": "stdout",
     "output_type": "stream",
     "text": [
      "CPU times: total: 0 ns\n",
      "Wall time: 0 ns\n"
     ]
    },
    {
     "data": {
      "text/html": [
       "<div>\n",
       "<style scoped>\n",
       "    .dataframe tbody tr th:only-of-type {\n",
       "        vertical-align: middle;\n",
       "    }\n",
       "\n",
       "    .dataframe tbody tr th {\n",
       "        vertical-align: top;\n",
       "    }\n",
       "\n",
       "    .dataframe thead th {\n",
       "        text-align: right;\n",
       "    }\n",
       "</style>\n",
       "<table border=\"1\" class=\"dataframe\">\n",
       "  <thead>\n",
       "    <tr style=\"text-align: right;\">\n",
       "      <th></th>\n",
       "      <th>competition</th>\n",
       "      <th>matches</th>\n",
       "      <th>runs</th>\n",
       "    </tr>\n",
       "  </thead>\n",
       "  <tbody>\n",
       "    <tr>\n",
       "      <th>0</th>\n",
       "      <td>TEST</td>\n",
       "      <td>132</td>\n",
       "      <td>2506</td>\n",
       "    </tr>\n",
       "    <tr>\n",
       "      <th>1</th>\n",
       "      <td>ODI</td>\n",
       "      <td>271</td>\n",
       "      <td>935</td>\n",
       "    </tr>\n",
       "    <tr>\n",
       "      <th>2</th>\n",
       "      <td>FC</td>\n",
       "      <td>344</td>\n",
       "      <td>5572</td>\n",
       "    </tr>\n",
       "    <tr>\n",
       "      <th>3</th>\n",
       "      <td>LA</td>\n",
       "      <td>380</td>\n",
       "      <td>1456</td>\n",
       "    </tr>\n",
       "    <tr>\n",
       "      <th>4</th>\n",
       "      <td>TEST</td>\n",
       "      <td>240</td>\n",
       "      <td>2506</td>\n",
       "    </tr>\n",
       "    <tr>\n",
       "      <th>5</th>\n",
       "      <td>ODI</td>\n",
       "      <td>271</td>\n",
       "      <td>3506</td>\n",
       "    </tr>\n",
       "  </tbody>\n",
       "</table>\n",
       "</div>"
      ],
      "text/plain": [
       "  competition  matches  runs\n",
       "0        TEST      132  2506\n",
       "1         ODI      271   935\n",
       "2          FC      344  5572\n",
       "3          LA      380  1456\n",
       "4        TEST      240  2506\n",
       "5         ODI      271  3506"
      ]
     },
     "execution_count": 15,
     "metadata": {},
     "output_type": "execute_result"
    }
   ],
   "source": [
    "import time\n",
    "%time\n",
    "df"
   ]
  },
  {
   "cell_type": "code",
   "execution_count": 21,
   "id": "b4ef7cc7-a7da-4938-bcd8-df2f4f9fc9e8",
   "metadata": {},
   "outputs": [
    {
     "name": "stdout",
     "output_type": "stream",
     "text": [
      "  competition  matches  runs\n",
      "0        TEST      132  2506\n",
      "2          FC      344  5572\n",
      "3          LA      380  1456\n",
      "4        TEST      240  2506\n",
      "5         ODI      271  3506\n"
     ]
    }
   ],
   "source": [
    "filter_df = df[df['runs'] > 935]\n",
    "print(filter_df)\n"
   ]
  },
  {
   "cell_type": "code",
   "execution_count": 27,
   "id": "bc57c0a6-e7b7-4b6a-be90-b47cd7dcad21",
   "metadata": {},
   "outputs": [
    {
     "data": {
      "text/plain": [
       "0    2638\n",
       "1    1206\n",
       "2    5916\n",
       "3    1836\n",
       "4    2746\n",
       "5    3777\n",
       "dtype: int64"
      ]
     },
     "execution_count": 27,
     "metadata": {},
     "output_type": "execute_result"
    }
   ],
   "source": [
    "df['matches']+df['runs']\n"
   ]
  },
  {
   "cell_type": "code",
   "execution_count": 29,
   "id": "bd60793d-4b17-4984-981e-1c4af7acb382",
   "metadata": {},
   "outputs": [
    {
     "data": {
      "text/plain": [
       "273.0"
      ]
     },
     "execution_count": 29,
     "metadata": {},
     "output_type": "execute_result"
    }
   ],
   "source": [
    "df['matches'].mean()"
   ]
  },
  {
   "cell_type": "code",
   "execution_count": null,
   "id": "0ecf9b89-08ac-4aa4-8daf-b0587e6c41c8",
   "metadata": {},
   "outputs": [],
   "source": []
  }
 ],
 "metadata": {
  "kernelspec": {
   "display_name": "Python 3 (ipykernel)",
   "language": "python",
   "name": "python3"
  },
  "language_info": {
   "codemirror_mode": {
    "name": "ipython",
    "version": 3
   },
   "file_extension": ".py",
   "mimetype": "text/x-python",
   "name": "python",
   "nbconvert_exporter": "python",
   "pygments_lexer": "ipython3",
   "version": "3.12.4"
  }
 },
 "nbformat": 4,
 "nbformat_minor": 5
}
