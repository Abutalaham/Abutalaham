{
 "cells": [
  {
   "cell_type": "code",
   "execution_count": 3,
   "id": "91c94e21-6afb-401d-a619-1d36af83e220",
   "metadata": {},
   "outputs": [
    {
     "name": "stdout",
     "output_type": "stream",
     "text": [
      "Steps before adding 1000 steps to all observations:\n",
      "   day  steps\n",
      "0    1   5335\n",
      "1    2   4552\n",
      "2    3   8332\n",
      "3    4   5584\n",
      "4    5   6335\n",
      "5    6   8552\n",
      "6    7   9332\n",
      "7    8   7504\n",
      "8    9   9593\n",
      "9   10   8689\n"
     ]
    }
   ],
   "source": [
    "import pandas as pd\n",
    "steps_tracker_data = {'day': [1, 2, 3, 4, 5, 6, 7, 8, 9, 10],'steps': [4335, 3552, 7332, 4584, 5335, 7552, 8332, 6504, 8593, 7689]}\n",
    "df = pd.DataFrame(steps_tracker_data)\n",
    "print(\"Steps before adding 1000 steps to all observations:\")\n",
    "df['steps'] = df['steps'] + 1000\n",
    "print(df)"
   ]
  },
  {
   "cell_type": "code",
   "execution_count": 5,
   "id": "4c69c4dd-1072-42a1-b20c-ff4f03079253",
   "metadata": {},
   "outputs": [
    {
     "name": "stdout",
     "output_type": "stream",
     "text": [
      "Days on which more than 7000 steps were walked:\n",
      "[3, 6, 7, 9, 10]\n"
     ]
    }
   ],
   "source": [
    "steps_tracker_data = {'day': [1, 2, 3, 4, 5, 6, 7, 8, 9, 10],'steps': [4335, 3552, 7332, 4584, 5335, 7552, 8332, 6504, 8593, 7689]}\n",
    "df = pd.DataFrame(steps_tracker_data)\n",
    "days_with_more_than_7000_steps = df[df['steps'] > 7000]\n",
    "print(\"Days on which more than 7000 steps were walked:\")\n",
    "print(days_with_more_than_7000_steps['day'].tolist())"
   ]
  },
  {
   "cell_type": "code",
   "execution_count": null,
   "id": "18a8ace8-fbd8-4c0b-bbca-f8108cad8058",
   "metadata": {},
   "outputs": [],
   "source": []
  }
 ],
 "metadata": {
  "kernelspec": {
   "display_name": "Python 3 (ipykernel)",
   "language": "python",
   "name": "python3"
  },
  "language_info": {
   "codemirror_mode": {
    "name": "ipython",
    "version": 3
   },
   "file_extension": ".py",
   "mimetype": "text/x-python",
   "name": "python",
   "nbconvert_exporter": "python",
   "pygments_lexer": "ipython3",
   "version": "3.12.4"
  }
 },
 "nbformat": 4,
 "nbformat_minor": 5
}
