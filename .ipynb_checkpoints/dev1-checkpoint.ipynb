{
 "cells": [
  {
   "cell_type": "code",
   "execution_count": 2,
   "id": "04a7fd66-afce-48f7-b7de-ba5c4127ab2a",
   "metadata": {},
   "outputs": [
    {
     "name": "stdout",
     "output_type": "stream",
     "text": [
      "  developer  experts   salary\n",
      "0      java      3.0  20000.0\n",
      "1    python      6.0  25000.0\n",
      "2    python      NaN  40000.0\n",
      "3    python      5.0      NaN\n",
      "4      java      NaN  25000.0\n",
      "5       NaN      2.0  10000.0\n",
      "6    python      4.0      NaN\n"
     ]
    }
   ],
   "source": [
    "import pandas as pd\n",
    "df=pd.read_csv('dev.csv')\n",
    "print(df)"
   ]
  },
  {
   "cell_type": "code",
   "execution_count": 18,
   "id": "119061d5-0be8-4843-a3c0-dae183916288",
   "metadata": {},
   "outputs": [],
   "source": [
    "mean = df['experts'].mean()\n",
    "df['experts'] = df['experts'].fillna(mean)"
   ]
  },
  {
   "cell_type": "code",
   "execution_count": null,
   "id": "6ac447c5-2bec-4265-9983-40687e1fa039",
   "metadata": {},
   "outputs": [],
   "source": []
  }
 ],
 "metadata": {
  "kernelspec": {
   "display_name": "Python 3 (ipykernel)",
   "language": "python",
   "name": "python3"
  },
  "language_info": {
   "codemirror_mode": {
    "name": "ipython",
    "version": 3
   },
   "file_extension": ".py",
   "mimetype": "text/x-python",
   "name": "python",
   "nbconvert_exporter": "python",
   "pygments_lexer": "ipython3",
   "version": "3.12.4"
  }
 },
 "nbformat": 4,
 "nbformat_minor": 5
}
