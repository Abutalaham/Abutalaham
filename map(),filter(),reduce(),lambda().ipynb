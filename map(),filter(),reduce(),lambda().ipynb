{
 "cells": [
  {
   "cell_type": "code",
   "execution_count": 1,
   "id": "0aeb854f-2bef-4dc0-b23a-cf187716cd29",
   "metadata": {},
   "outputs": [
    {
     "name": "stdout",
     "output_type": "stream",
     "text": [
      "[8, 10, 11, 12, 13]\n"
     ]
    }
   ],
   "source": [
    "def add(x):\n",
    "    return x+4\n",
    "L1=[4,6,7,8,9]\n",
    "L2=list(map(add,L1))\n",
    "print(L2)"
   ]
  },
  {
   "cell_type": "code",
   "execution_count": 3,
   "id": "985eace3-ef3f-4cb9-88f0-0fc9d867df04",
   "metadata": {},
   "outputs": [
    {
     "name": "stdout",
     "output_type": "stream",
     "text": [
      "[4, 6, 8]\n"
     ]
    }
   ],
   "source": [
    "def oddeven (x):\n",
    "    if x%2 == 0:\n",
    "        return True\n",
    "    else:\n",
    "        return False\n",
    "L1=[4,5,6,7,8,9]\n",
    "evenlist=list(filter(oddeven,L1))\n",
    "print(evenlist)"
   ]
  },
  {
   "cell_type": "code",
   "execution_count": 7,
   "id": "916c01a8-c54f-46cb-a3cd-8f10b2c9bb43",
   "metadata": {},
   "outputs": [
    {
     "name": "stdout",
     "output_type": "stream",
     "text": [
      "30\n"
     ]
    }
   ],
   "source": [
    "from functools import reduce\n",
    "def sum (x,y):\n",
    "    return x+y\n",
    "L1 = [6,7,8,9]\n",
    "s=reduce(sum,L1)\n",
    "print(s)"
   ]
  },
  {
   "cell_type": "code",
   "execution_count": 9,
   "id": "63d88af8-6a54-4050-be25-72393cd2fc66",
   "metadata": {},
   "outputs": [
    {
     "data": {
      "text/plain": [
       "5"
      ]
     },
     "execution_count": 9,
     "metadata": {},
     "output_type": "execute_result"
    }
   ],
   "source": [
    "max=lambda a,b : a if (a>b) else b\n",
    "max(4,5)"
   ]
  },
  {
   "cell_type": "code",
   "execution_count": null,
   "id": "d6db1d57-c6fd-4aa1-be08-4107859e069f",
   "metadata": {},
   "outputs": [],
   "source": []
  }
 ],
 "metadata": {
  "kernelspec": {
   "display_name": "Python 3 (ipykernel)",
   "language": "python",
   "name": "python3"
  },
  "language_info": {
   "codemirror_mode": {
    "name": "ipython",
    "version": 3
   },
   "file_extension": ".py",
   "mimetype": "text/x-python",
   "name": "python",
   "nbconvert_exporter": "python",
   "pygments_lexer": "ipython3",
   "version": "3.12.4"
  }
 },
 "nbformat": 4,
 "nbformat_minor": 5
}
