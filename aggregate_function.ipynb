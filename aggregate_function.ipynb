{
 "cells": [
  {
   "cell_type": "code",
   "execution_count": 9,
   "id": "5b484608-3fb5-4c32-ad77-e43e1b7d1868",
   "metadata": {},
   "outputs": [
    {
     "name": "stdout",
     "output_type": "stream",
     "text": [
      "array: 1 2 3 4 5\n",
      "sum: 15\n",
      "product: 120\n",
      "mean: 3.0\n",
      "std: 1.4142135623730951\n",
      "variance: 2.0\n",
      "minimum: 1\n",
      "maximum: 5\n",
      "min index: 0\n",
      "max index: 4\n",
      "median: 3.0\n"
     ]
    }
   ],
   "source": [
    "import numpy as np\n",
    "\n",
    "a = np.array([1, 2, 3, 4, 5])\n",
    "\n",
    "print(\"array:\", ' '.join(map(str, a)))\n",
    "\n",
    "sum = np.sum(a)\n",
    "print(\"sum:\", sum)\n",
    "\n",
    "product = np.prod(a)\n",
    "print(\"product:\", product)\n",
    "\n",
    "mean = np.mean(a)\n",
    "print(\"mean:\", mean)\n",
    "\n",
    "std = np.std(a)\n",
    "print(\"std:\", std)\n",
    "\n",
    "variance = np.var(a)\n",
    "print(\"variance:\", variance)\n",
    "\n",
    "minimum = np.min(a)\n",
    "print(\"minimum:\", minimum)\n",
    "\n",
    "maximum = np.max(a)\n",
    "print(\"maximum:\", maximum)\n",
    "\n",
    "min_index = np.argmin(a)\n",
    "print(\"min index:\", min_index)\n",
    "\n",
    "max_index = np.argmax(a)\n",
    "print(\"max index:\", max_index)\n",
    "\n",
    "median = np.median(a)\n",
    "print(\"median:\", median)\n"
   ]
  },
  {
   "cell_type": "code",
   "execution_count": null,
   "id": "a27aeece-9bfa-468d-9ebc-cc2f5a178d89",
   "metadata": {},
   "outputs": [],
   "source": []
  }
 ],
 "metadata": {
  "kernelspec": {
   "display_name": "Python 3 (ipykernel)",
   "language": "python",
   "name": "python3"
  },
  "language_info": {
   "codemirror_mode": {
    "name": "ipython",
    "version": 3
   },
   "file_extension": ".py",
   "mimetype": "text/x-python",
   "name": "python",
   "nbconvert_exporter": "python",
   "pygments_lexer": "ipython3",
   "version": "3.12.4"
  }
 },
 "nbformat": 4,
 "nbformat_minor": 5
}
